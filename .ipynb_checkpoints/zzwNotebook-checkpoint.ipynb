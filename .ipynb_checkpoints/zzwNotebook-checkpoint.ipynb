{
 "cells": [
  {
   "cell_type": "code",
   "execution_count": 1,
   "metadata": {},
   "outputs": [
    {
     "name": "stdout",
     "output_type": "stream",
     "text": [
      "Available line magics:\n",
      "%activity  %cd  %connect_info  %conversation  %dot  %download  %edit  %get  %help  %html  %include  %install  %install_magic  %javascript  %jigsaw  %kernel  %kx  %latex  %load  %ls  %lsmagic  %macro  %magic  %matplotlib  %parallel  %plot  %pmap  %px  %python  %reload_magics  %restart  %run  %scheme  %set  %shell\n",
      "\n",
      "Available cell magics:\n",
      "%%activity  %%brain  %%conversation  %%debug  %%dot  %%file  %%help  %%html  %%javascript  %%kx  %%latex  %%macro  %%pipe  %%processing  %%px  %%python  %%scheme  %%shell  %%show  %%time  %%tutor\n"
     ]
    }
   ],
   "source": [
    "%lsmagic"
   ]
  },
  {
   "cell_type": "code",
   "execution_count": 2,
   "metadata": {},
   "outputs": [],
   "source": [
    "%load zzwmain.m"
   ]
  },
  {
   "cell_type": "markdown",
   "metadata": {},
   "source": [
    "## 自组网仿真主程序"
   ]
  },
  {
   "cell_type": "code",
   "execution_count": 5,
   "metadata": {},
   "outputs": [
    {
     "name": "stdout",
     "output_type": "stream",
     "text": [
      "\n",
      "ans =\n",
      "\n",
      "    'OK'\n",
      "\n",
      "\n"
     ]
    },
    {
     "data": {
      "image/png": "[encoded data removed]",
      "text/plain": [
       "<IPython.core.display.Image object>"
      ]
     },
     "metadata": {},
     "output_type": "display_data"
    }
   ],
   "source": [
    "%matlab notebook\n",
    "\n",
    "\n",
    "clear all;\n",
    "close all;\n",
    "sysCfg=sysCfgStr();\n",
    "global puschDMRS;\n",
    "\n",
    "%% generate DMRS\n",
    "ue.NPUSCHID = 42;\n",
    "ue.NDMRSID = 1;\n",
    "ue.NSubframe = 0;\n",
    "chs.PRBSet = (0:24).';\n",
    "puschDMRS = ltePUSCHDRS(ue,chs);\n",
    "DMRS=[puschDMRS(1:300).';puschDMRS(301:end).']; % only use the DMRS(1,:)\n",
    "\n",
    "Ber=[];\n",
    "for SNR=1:1:30\n",
    "    for i=1:10\n",
    "        BerRaw(SNR,i)=runonce('noCHE','noEQ',SNR);\n",
    "        BerZF(SNR,i)=runonce('LS','ZF',SNR);\n",
    "    end\n",
    "    \n",
    "end\n",
    "b=sum(BerRaw,2)/10;\n",
    "semilogy(1:30,b,'b--');hold on;\n",
    "b=sum(BerZF,2)/10;\n",
    "semilogy(1:30,b,'r-x');hold on;\n",
    "semilogy(30:30,0.01:0.1:0.01,'g.');grid on;\n",
    "\n",
    "%scatterplot(RxDataTd(1,:))\n",
    "\n",
    "%a=txWaveFormWithCh(37:end);% remove CP\n",
    "%a=fft(a,512);% FFT\n",
    "%a=ifft(a,300);% IDFT\n",
    "%scatterplot(a)\n",
    "%\n",
    "\n",
    "\n",
    "%'OK'"
   ]
  }
 ],
 "metadata": {
  "kernelspec": {
   "display_name": "Matlab",
   "language": "matlab",
   "name": "matlab"
  },
  "language_info": {
   "codemirror_mode": "octave",
   "file_extension": ".m",
   "help_links": [
    {
     "text": "MetaKernel Magics",
     "url": "https://github.com/calysto/metakernel/blob/master/metakernel/magics/README.md"
    }
   ],
   "mimetype": "text/x-octave",
   "name": "matlab",
   "version": "0.15.0"
  }
 },
 "nbformat": 4,
 "nbformat_minor": 2
}
